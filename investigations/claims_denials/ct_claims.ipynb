{
 "cells": [
  {
   "cell_type": "code",
   "execution_count": 13,
   "metadata": {},
   "outputs": [],
   "source": [
    "import tabula"
   ]
  },
  {
   "cell_type": "markdown",
   "metadata": {},
   "source": [
    "# 2022 Report"
   ]
  },
  {
   "cell_type": "code",
   "execution_count": 16,
   "metadata": {},
   "outputs": [],
   "source": [
    "url = \"https://portal.ct.gov/-/media/CID/1_Reports/2022-ConsumerReportCard.pdf\"\n",
    "pages = [7, 8] + list(range(29, 49 + 1)) + [52, 55, 56, 57, 58, 59]\n",
    "dfs = tabula.read_pdf(url, stream=True, pages=[7, 8, 29])"
   ]
  },
  {
   "cell_type": "code",
   "execution_count": null,
   "metadata": {},
   "outputs": [],
   "source": []
  }
 ],
 "metadata": {
  "kernelspec": {
   "display_name": "Python 3.10.6 ('investigations')",
   "language": "python",
   "name": "python3"
  },
  "language_info": {
   "codemirror_mode": {
    "name": "ipython",
    "version": 3
   },
   "file_extension": ".py",
   "mimetype": "text/x-python",
   "name": "python",
   "nbconvert_exporter": "python",
   "pygments_lexer": "ipython3",
   "version": "3.10.6"
  },
  "orig_nbformat": 4,
  "vscode": {
   "interpreter": {
    "hash": "3ae921485ccdeea0c9537f4676470eee0f383b03f998fe345bd7062257fee1e6"
   }
  }
 },
 "nbformat": 4,
 "nbformat_minor": 2
}
