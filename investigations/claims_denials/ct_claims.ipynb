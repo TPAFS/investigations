{
 "cells": [
  {
   "cell_type": "code",
   "execution_count": 1,
   "metadata": {},
   "outputs": [],
   "source": [
    "import tabula"
   ]
  },
  {
   "attachments": {},
   "cell_type": "markdown",
   "metadata": {},
   "source": [
    "# 2022 Report\n"
   ]
  },
  {
   "cell_type": "code",
   "execution_count": 2,
   "metadata": {},
   "outputs": [],
   "source": [
    "url = \"https://portal.ct.gov/-/media/CID/1_Reports/2022-ConsumerReportCard.pdf\"\n",
    "pages = [7, 8] + list(range(29, 49 + 1)) + [52, 55, 56, 57, 58, 59]\n",
    "dfs = tabula.read_pdf(url, stream=True, pages=pages)"
   ]
  },
  {
   "cell_type": "code",
   "execution_count": null,
   "metadata": {},
   "outputs": [],
   "source": []
  }
 ],
 "metadata": {
  "kernelspec": {
   "display_name": "investigations",
   "language": "python",
   "name": "python3"
  },
  "language_info": {
   "codemirror_mode": {
    "name": "ipython",
    "version": 3
   },
   "file_extension": ".py",
   "mimetype": "text/x-python",
   "name": "python",
   "nbconvert_exporter": "python",
   "pygments_lexer": "ipython3",
   "version": "3.10.7"
  },
  "orig_nbformat": 4,
  "vscode": {
   "interpreter": {
    "hash": "330a37e5757b07bc21a38b7a5e89b9d60a11767fef49cb9d875008129ab4ca85"
   }
  }
 },
 "nbformat": 4,
 "nbformat_minor": 2
}
