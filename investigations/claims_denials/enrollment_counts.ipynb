{
 "cells": [
  {
   "cell_type": "markdown",
   "metadata": {},
   "source": [
    "## Setup"
   ]
  },
  {
   "cell_type": "code",
   "execution_count": 14,
   "metadata": {},
   "outputs": [],
   "source": [
    "import json\n",
    "import os\n",
    "import sys\n",
    "\n",
    "from datetime import datetime\n",
    "from functools import partial\n",
    "\n",
    "import numpy as np\n",
    "import pandas as pd\n",
    "import matplotlib.pyplot as plt\n",
    "import zipfile\n",
    "\n",
    "from matplotlib.dates import DateFormatter\n",
    "\n",
    "\n",
    "pd.set_option(\"display.max_columns\", None)\n",
    "sys.path.append(\"../..\")\n",
    "\n",
    "from src.utils.download import download_file_from_url\n",
    "from src.utils.plot import plot_bar, plot_hist, plot_pie\n",
    "from src.utils.states import abbrev_to_state\n",
    "\n",
    "INPUT_DATA_DIR = \"./input_data\"\n",
    "\n",
    "os.makedirs(INPUT_DATA_DIR, exist_ok=True)\n",
    "\n",
    "YEAR = 2021"
   ]
  },
  {
   "cell_type": "code",
   "execution_count": 15,
   "metadata": {},
   "outputs": [
    {
     "name": "stdout",
     "output_type": "stream",
     "text": [
      "Downloading file from: https://www.cms.gov/files/zip/2021-oep-state-level-public-use-file.zip.\n",
      "Success.\n"
     ]
    }
   ],
   "source": [
    "# URL obtained by clicking \"2021 OEP State-Level Public Use File (ZIP)\" here:\n",
    "# https://www.cms.gov/research-statistics-data-systems/marketplace-products/2021-marketplace-open-enrollment-period-public-use-files\n",
    "url = \"https://www.cms.gov/files/zip/2021-oep-state-level-public-use-file.zip\"\n",
    "zip_path = os.path.join(INPUT_DATA_DIR, f\"enrollment_puf_{YEAR}.zip\")\n",
    "download_file_from_url(url, zip_path)\n",
    "\n",
    "# Unzip\n",
    "zipdata = zipfile.ZipFile(zip_path)\n",
    "zipinfo = zipdata.infolist()[0]  # Single file in each zip\n",
    "\n",
    "# Rename file to enforce consistency across years and handle with same boilerplate\n",
    "zipinfo.filename = f\"enrollment_puf_{YEAR}.csv\"\n",
    "enrollment_path = zipdata.extract(zipinfo, INPUT_DATA_DIR)\n",
    "\n",
    "# Delete zip\n",
    "os.remove(zip_path)"
   ]
  },
  {
   "cell_type": "code",
   "execution_count": 16,
   "metadata": {},
   "outputs": [],
   "source": [
    "enrollment_csv = pd.read_csv(enrollment_path)\n",
    "enrollment_csv[\"Cnsmr\"] = (\n",
    "    enrollment_csv[\"Cnsmr\"].apply(lambda x: x.replace(\",\", \"\")).astype(int)\n",
    ")"
   ]
  },
  {
   "cell_type": "code",
   "execution_count": 17,
   "metadata": {},
   "outputs": [],
   "source": [
    "hc_gov_records = enrollment_csv[enrollment_csv[\"Pltfrm\"] == \"HC.gov\"]\n",
    "sbm_records = enrollment_csv[enrollment_csv[\"Pltfrm\"] == \"SBM\"]"
   ]
  },
  {
   "cell_type": "code",
   "execution_count": 18,
   "metadata": {},
   "outputs": [
    {
     "data": {
      "text/plain": [
       "8251703"
      ]
     },
     "execution_count": 18,
     "metadata": {},
     "output_type": "execute_result"
    }
   ],
   "source": [
    "component_rows = hc_gov_records[hc_gov_records[\"State_Abrvtn\"] != \"Total\"]\n",
    "total_row = hc_gov_records[hc_gov_records[\"State_Abrvtn\"] == \"Total\"]\n",
    "assert component_rows[\"Cnsmr\"].sum() == total_row[\"Cnsmr\"].sum()\n",
    "# 2021 population represented by healthcare.gov plans\n",
    "hc_gov_total = total_row[\"Cnsmr\"].sum()\n",
    "hc_gov_total"
   ]
  },
  {
   "cell_type": "code",
   "execution_count": 19,
   "metadata": {},
   "outputs": [
    {
     "data": {
      "text/plain": [
       "3752662"
      ]
     },
     "execution_count": 19,
     "metadata": {},
     "output_type": "execute_result"
    }
   ],
   "source": [
    "component_rows = sbm_records[sbm_records[\"State_Abrvtn\"] != \"Total\"]\n",
    "total_row = sbm_records[sbm_records[\"State_Abrvtn\"] == \"Total\"]\n",
    "assert component_rows[\"Cnsmr\"].sum() == total_row[\"Cnsmr\"].sum()\n",
    "# 2021 population represented by healthcare.gov plans\n",
    "sbe_total = total_row[\"Cnsmr\"].sum()\n",
    "sbe_total"
   ]
  },
  {
   "cell_type": "code",
   "execution_count": 20,
   "metadata": {},
   "outputs": [
    {
     "name": "stdout",
     "output_type": "stream",
     "text": [
      "1625546 marketplace QHP consumers in CA in 2021\n",
      "179607 marketplace QHP consumers in CO in 2021\n",
      "104946 marketplace QHP consumers in CT in 2021\n",
      "16947 marketplace QHP consumers in DC in 2021\n",
      "68832 marketplace QHP consumers in ID in 2021\n",
      "166038 marketplace QHP consumers in MD in 2021\n",
      "294097 marketplace QHP consumers in MA in 2021\n",
      "112804 marketplace QHP consumers in MN in 2021\n",
      "81903 marketplace QHP consumers in NV in 2021\n",
      "269560 marketplace QHP consumers in NJ in 2021\n",
      "215889 marketplace QHP consumers in NY in 2021\n",
      "337722 marketplace QHP consumers in PA in 2021\n",
      "31174 marketplace QHP consumers in RI in 2021\n",
      "24866 marketplace QHP consumers in VT in 2021\n",
      "222731 marketplace QHP consumers in WA in 2021\n"
     ]
    }
   ],
   "source": [
    "for abbrev in abbrev_to_state.keys():\n",
    "    state_row = sbm_records[sbm_records[\"State_Abrvtn\"] == abbrev]\n",
    "    state_consumers = state_row[\"Cnsmr\"].sum()\n",
    "    if state_consumers > 0:\n",
    "        print(f\"{state_consumers} marketplace QHP consumers in {abbrev} in {YEAR}\")"
   ]
  },
  {
   "cell_type": "code",
   "execution_count": 21,
   "metadata": {},
   "outputs": [
    {
     "name": "stdout",
     "output_type": "stream",
     "text": [
      "12004365 marketplace QHP consumers in 2021\n"
     ]
    }
   ],
   "source": [
    "total_QHP_enrollment = hc_gov_total + sbe_total\n",
    "print(f\"{total_QHP_enrollment} marketplace QHP consumers in {YEAR}\")"
   ]
  }
 ],
 "metadata": {
  "kernelspec": {
   "display_name": "Python 3.10.6 ('investigations')",
   "language": "python",
   "name": "python3"
  },
  "language_info": {
   "codemirror_mode": {
    "name": "ipython",
    "version": 3
   },
   "file_extension": ".py",
   "mimetype": "text/x-python",
   "name": "python",
   "nbconvert_exporter": "python",
   "pygments_lexer": "ipython3",
   "version": "3.10.6"
  },
  "orig_nbformat": 4,
  "vscode": {
   "interpreter": {
    "hash": "3ae921485ccdeea0c9537f4676470eee0f383b03f998fe345bd7062257fee1e6"
   }
  }
 },
 "nbformat": 4,
 "nbformat_minor": 2
}
