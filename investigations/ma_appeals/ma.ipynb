{
 "cells": [
  {
   "cell_type": "code",
   "execution_count": 94,
   "metadata": {},
   "outputs": [],
   "source": [
    "import csv\n",
    "import difflib\n",
    "import json\n",
    "import os\n",
    "import re\n",
    "import sys\n",
    "\n",
    "import numpy as np\n",
    "import pandas as pd\n",
    "\n",
    "pd.set_option(\"display.max_columns\", None)\n",
    "sys.path.append(\"../..\")\n",
    "\n",
    "from src.utils.data.claims_denials import (\n",
    "    get_overturn_rate,\n",
    ")\n",
    "\n",
    "INPUT_DATA_DIR = \"./input_data\"\n",
    "OUTPUT_DATA_DIR = \"./output_data\"\n",
    "OUTPUT_IMAGE_DIR = \"./images/ma\"  # Set to None if you don't want to save non-required data for external use\n",
    "NO_PLOT_TITLES = False  # If True, plots have no titles. Useful for cases where one wants titles rendered separately from underlying plots."
   ]
  },
  {
   "cell_type": "code",
   "execution_count": 95,
   "metadata": {},
   "outputs": [
    {
     "name": "stderr",
     "output_type": "stream",
     "text": [
      "Skipping line 677794: unexpected end of data\n"
     ]
    }
   ],
   "source": [
    "# TODO: download data via script to local, if necessary\n",
    "download_date = \"10_20_24\"\n",
    "# Have to use python engine given incorrectly encoded EOF in file; c backend evidently can't handle even with on_bad_lines='warn'\n",
    "df = pd.read_csv(os.path.join(INPUT_DATA_DIR, f\"{download_date}/medicare_qic_partc.csv\"), quoting=csv.QUOTE_MINIMAL, on_bad_lines='warn', engine='python')"
   ]
  },
  {
   "cell_type": "code",
   "execution_count": 96,
   "metadata": {},
   "outputs": [
    {
     "data": {
      "text/html": [
       "<div>\n",
       "<style scoped>\n",
       "    .dataframe tbody tr th:only-of-type {\n",
       "        vertical-align: middle;\n",
       "    }\n",
       "\n",
       "    .dataframe tbody tr th {\n",
       "        vertical-align: top;\n",
       "    }\n",
       "\n",
       "    .dataframe thead th {\n",
       "        text-align: right;\n",
       "    }\n",
       "</style>\n",
       "<table border=\"1\" class=\"dataframe\">\n",
       "  <thead>\n",
       "    <tr style=\"text-align: right;\">\n",
       "      <th></th>\n",
       "      <th>Part</th>\n",
       "      <th>Decision Date</th>\n",
       "      <th>Decision</th>\n",
       "      <th>Appeal Type</th>\n",
       "      <th>Condition</th>\n",
       "      <th>Item Service</th>\n",
       "      <th>Decision Rationale</th>\n",
       "      <th>Coverage Rules</th>\n",
       "      <th>Related Reference ID</th>\n",
       "    </tr>\n",
       "  </thead>\n",
       "  <tbody>\n",
       "    <tr>\n",
       "      <th>0</th>\n",
       "      <td>Part C</td>\n",
       "      <td>01/02/2020</td>\n",
       "      <td>Unfavorable</td>\n",
       "      <td>Imaging</td>\n",
       "      <td>NaN</td>\n",
       "      <td>Mammography</td>\n",
       "      <td>We decided that the Plan does not have to pre-...</td>\n",
       "      <td>The rules say that plans must pay for a medica...</td>\n",
       "      <td>NaN</td>\n",
       "    </tr>\n",
       "    <tr>\n",
       "      <th>1</th>\n",
       "      <td>Part C</td>\n",
       "      <td>01/02/2020</td>\n",
       "      <td>Unfavorable</td>\n",
       "      <td>Inpatient Hospital</td>\n",
       "      <td>NaN</td>\n",
       "      <td>Acute Inpatient</td>\n",
       "      <td>We decided that the Plan does not have to pay ...</td>\n",
       "      <td>The rules say that plans must pay for a medica...</td>\n",
       "      <td>NaN</td>\n",
       "    </tr>\n",
       "    <tr>\n",
       "      <th>2</th>\n",
       "      <td>Part C</td>\n",
       "      <td>01/02/2020</td>\n",
       "      <td>Unfavorable</td>\n",
       "      <td>Surgery</td>\n",
       "      <td>NaN</td>\n",
       "      <td>Other - Surgery</td>\n",
       "      <td>We decided that the Plan does not have to pre-...</td>\n",
       "      <td>The rules say that plans must pay for a medica...</td>\n",
       "      <td>NaN</td>\n",
       "    </tr>\n",
       "    <tr>\n",
       "      <th>3</th>\n",
       "      <td>Part C</td>\n",
       "      <td>01/02/2020</td>\n",
       "      <td>Unfavorable</td>\n",
       "      <td>DME/ Orthotics</td>\n",
       "      <td>NaN</td>\n",
       "      <td>Pneumatic Compression Device</td>\n",
       "      <td>We decided that the Plan does not have to prea...</td>\n",
       "      <td>The rules say that plans must pay for a medica...</td>\n",
       "      <td>NaN</td>\n",
       "    </tr>\n",
       "    <tr>\n",
       "      <th>4</th>\n",
       "      <td>Part C</td>\n",
       "      <td>01/02/2020</td>\n",
       "      <td>Favorable</td>\n",
       "      <td>Practitioner Services</td>\n",
       "      <td>NaN</td>\n",
       "      <td>Injections</td>\n",
       "      <td>We decided that the Plan has to pre-approve sa...</td>\n",
       "      <td>The rules say that plans must pay for a medica...</td>\n",
       "      <td>NaN</td>\n",
       "    </tr>\n",
       "  </tbody>\n",
       "</table>\n",
       "</div>"
      ],
      "text/plain": [
       "     Part Decision Date     Decision            Appeal Type Condition   \n",
       "0  Part C    01/02/2020  Unfavorable                Imaging       NaN  \\\n",
       "1  Part C    01/02/2020  Unfavorable     Inpatient Hospital       NaN   \n",
       "2  Part C    01/02/2020  Unfavorable                Surgery       NaN   \n",
       "3  Part C    01/02/2020  Unfavorable         DME/ Orthotics       NaN   \n",
       "4  Part C    01/02/2020    Favorable  Practitioner Services       NaN   \n",
       "\n",
       "                   Item Service   \n",
       "0                   Mammography  \\\n",
       "1               Acute Inpatient   \n",
       "2               Other - Surgery   \n",
       "3  Pneumatic Compression Device   \n",
       "4                    Injections   \n",
       "\n",
       "                                  Decision Rationale   \n",
       "0  We decided that the Plan does not have to pre-...  \\\n",
       "1  We decided that the Plan does not have to pay ...   \n",
       "2  We decided that the Plan does not have to pre-...   \n",
       "3  We decided that the Plan does not have to prea...   \n",
       "4  We decided that the Plan has to pre-approve sa...   \n",
       "\n",
       "                                      Coverage Rules Related Reference ID  \n",
       "0  The rules say that plans must pay for a medica...                  NaN  \n",
       "1  The rules say that plans must pay for a medica...                  NaN  \n",
       "2  The rules say that plans must pay for a medica...                  NaN  \n",
       "3  The rules say that plans must pay for a medica...                  NaN  \n",
       "4  The rules say that plans must pay for a medica...                  NaN  "
      ]
     },
     "execution_count": 96,
     "metadata": {},
     "output_type": "execute_result"
    }
   ],
   "source": [
    "df.head()"
   ]
  },
  {
   "cell_type": "code",
   "execution_count": 97,
   "metadata": {},
   "outputs": [],
   "source": [
    "# Split dates\n",
    "df[\"decision_year\"] = df[\"Decision Date\"].apply(lambda x: int(x.split(\"/\")[-1]))\n",
    "df[\"decision_month\"] = df[\"Decision Date\"].apply(lambda x: int(x.split(\"/\")[0]))\n",
    "df[\"decision_day\"] = df[\"Decision Date\"].apply(lambda x: int(x.split(\"/\")[1]))\n",
    "\n",
    "# Restrict attention to years with complete data\n",
    "years = [2020, 2021, 2022, 2023]\n",
    "df = df[df[\"decision_year\"].isin(years)]"
   ]
  },
  {
   "cell_type": "code",
   "execution_count": 98,
   "metadata": {},
   "outputs": [
    {
     "name": "stdout",
     "output_type": "stream",
     "text": [
      "Number of appeals: 547311\n",
      "Overturn rate (complete overturn): 0.04495433126686655\n",
      "Overturn rate (complete + partial): 0.05243210189907008\n"
     ]
    }
   ],
   "source": [
    "num_appeals = len(df)\n",
    "complete_overturn_rate = get_overturn_rate(df,\"Decision\", \"Favorable\") # TODO: Verify favorable means favorable to insured. Ambiguous descriptor.\n",
    "overturn_rate = (df[\"Decision\"].value_counts()['Favorable'] + df[\"Decision\"].value_counts()['Partially Favorable']) / df[\"Decision\"].value_counts()['Unfavorable']\n",
    "print(f\"Number of appeals: {num_appeals}\")\n",
    "print(f\"Overturn rate (complete overturn): {complete_overturn_rate}\")\n",
    "print(f\"Overturn rate (complete + partial): {overturn_rate}\")"
   ]
  },
  {
   "cell_type": "code",
   "execution_count": 99,
   "metadata": {},
   "outputs": [
    {
     "data": {
      "text/plain": [
       "Decision\n",
       "Unfavorable            520044\n",
       "Favorable               24604\n",
       "Partially Favorable      2663\n",
       "Name: count, dtype: int64"
      ]
     },
     "execution_count": 99,
     "metadata": {},
     "output_type": "execute_result"
    }
   ],
   "source": [
    "df[\"Decision\"].value_counts()"
   ]
  },
  {
   "cell_type": "code",
   "execution_count": 119,
   "metadata": {},
   "outputs": [],
   "source": [
    "def generate_summary_df(df, group_col):\n",
    "    \"\"\"Get df of counts and stats by groups specified by group_col.\n",
    "    \"\"\"\n",
    "    # Group by 'date' and calculate the required statistics\n",
    "    summary_df = df.groupby(group_col).agg(\n",
    "        num_appeals=('Part', lambda x: len(x)),\n",
    "        # num_appeals=('decision_number', 'count'),\n",
    "        num_favorable=('Decision', lambda x: (x == 'Favorable').sum()),\n",
    "        num_partially_favorable=('Decision', lambda x: (x == 'Partially Favorable').sum()),\n",
    "        num_unfavorable=('Decision', lambda x: (x == 'Unfavorable').sum()),\n",
    "        num_withdrawn=('Decision', lambda x: (x == 'Withdrawn').sum()),\n",
    "        overturn_rate=('Decision', lambda x: (x == 'Favorable').sum() / len(x)),\n",
    "        partial_overturn_rate=('Decision', lambda x: (x == 'Partially Favorable').sum() / len(x)),\n",
    "    ).reset_index()\n",
    "    return summary_df\n",
    "\n",
    "\n",
    "def generate_json_summary(df):\n",
    "    \"\"\"Get dict of counts and stats by groups specified by group_col.\n",
    "    \"\"\"\n",
    "\n",
    "    # Convert the summary DataFrame to JSON\n",
    "    json_output = df.to_json(orient='records', lines=True)\n",
    "\n",
    "    # Load JSON string to a list of dictionaries\n",
    "    json_list = [json.loads(line) for line in json_output.split('\\n') if line]\n",
    "\n",
    "    return json_list"
   ]
  },
  {
   "cell_type": "code",
   "execution_count": 101,
   "metadata": {},
   "outputs": [
    {
     "data": {
      "text/plain": [
       "[{'decision_year': 2020,\n",
       "  'num_appeals': 94884,\n",
       "  'num_favorable': 4797,\n",
       "  'num_partially_favorable': 449,\n",
       "  'num_unfavorable': 89638,\n",
       "  'num_withdrawn': 0,\n",
       "  'overturn_rate': 0.050556469,\n",
       "  'partial_overturn_rate': 0.0047320939},\n",
       " {'decision_year': 2021,\n",
       "  'num_appeals': 117466,\n",
       "  'num_favorable': 4734,\n",
       "  'num_partially_favorable': 487,\n",
       "  'num_unfavorable': 112245,\n",
       "  'num_withdrawn': 0,\n",
       "  'overturn_rate': 0.0403010233,\n",
       "  'partial_overturn_rate': 0.0041458805},\n",
       " {'decision_year': 2022,\n",
       "  'num_appeals': 150268,\n",
       "  'num_favorable': 6424,\n",
       "  'num_partially_favorable': 618,\n",
       "  'num_unfavorable': 143226,\n",
       "  'num_withdrawn': 0,\n",
       "  'overturn_rate': 0.0427502862,\n",
       "  'partial_overturn_rate': 0.0041126521},\n",
       " {'decision_year': 2023,\n",
       "  'num_appeals': 184693,\n",
       "  'num_favorable': 8649,\n",
       "  'num_partially_favorable': 1109,\n",
       "  'num_unfavorable': 174935,\n",
       "  'num_withdrawn': 0,\n",
       "  'overturn_rate': 0.0468290623,\n",
       "  'partial_overturn_rate': 0.0060045589}]"
      ]
     },
     "execution_count": 101,
     "metadata": {},
     "output_type": "execute_result"
    }
   ],
   "source": [
    "# Yearly summary\n",
    "json_summary = generate_json_summary(generate_summary_df(df, \"decision_year\"))\n",
    "json_summary"
   ]
  },
  {
   "cell_type": "code",
   "execution_count": 102,
   "metadata": {},
   "outputs": [],
   "source": [
    "def filter_df(df: pd.DataFrame, search_term: str, cols: list[str]):\n",
    "    \"\"\"Filter for sub_df matching certain pattern in any of cols.\n",
    "    \"\"\"\n",
    "    # pattern = r\"\\b(?:\" + re.escape(search_term)+ \")\\b\"\n",
    "    pattern = r\"(?:\" + re.escape(search_term) + \")\"\n",
    "    mask = np.column_stack(\n",
    "        [\n",
    "            df[col].str.contains(pattern, na=False, flags=re.IGNORECASE)\n",
    "            for col in cols\n",
    "        ]\n",
    "    )\n",
    "    sub_df = df.loc[mask.any(axis=1)]\n",
    "    return sub_df"
   ]
  },
  {
   "cell_type": "code",
   "execution_count": 103,
   "metadata": {},
   "outputs": [],
   "source": [
    "# Attempt to dedupe, a bit (this is complicated in this context, only merge if a lot of overlap, print all merges)\n",
    "def merge_similar_objects(data, threshold=0.8):\n",
    "    merged_data = []\n",
    "    merges = []\n",
    "\n",
    "    for item in data:\n",
    "        matched = False\n",
    "\n",
    "        for merged_item in merged_data:\n",
    "            similarity_ratio = difflib.SequenceMatcher(None, item['name'], merged_item['name']).ratio()\n",
    "\n",
    "            if similarity_ratio > threshold:\n",
    "                # Merge the items\n",
    "                merged_item['num_appeals'] += item['num_appeals']\n",
    "                merged_item['num_favorable'] += item['num_favorable']\n",
    "                merged_item['num_partially_favorable'] += item['num_partially_favorable']\n",
    "                merged_item['num_withdrawn'] += item['num_withdrawn']\n",
    "                merged_item['num_unfavorable'] += item['num_unfavorable']\n",
    "                merged_item['overturn_rate'] = merged_item[\"num_favorable\"] / merged_item[\"num_appeals\"]\n",
    "                merged_item['partial_overturn_rate'] = merged_item[\"num_partially_favorable\"] / merged_item[\"num_appeals\"]\n",
    "                matched = True\n",
    "                merges.append([item[\"name\"], merged_item[\"name\"]])\n",
    "                \n",
    "                break\n",
    "\n",
    "        if not matched:\n",
    "            # If no match is found, add the item as is\n",
    "            merged_data.append(item)\n",
    "\n",
    "    return merged_data, merges"
   ]
  },
  {
   "cell_type": "code",
   "execution_count": 104,
   "metadata": {},
   "outputs": [],
   "source": [
    "condition_df = generate_summary_df(df, group_col=\"Condition\")"
   ]
  },
  {
   "cell_type": "code",
   "execution_count": 105,
   "metadata": {},
   "outputs": [],
   "source": [
    "# Restrict to conditions appealed more than Threshold times\n",
    "APPEAL_THRESHOLD = 50\n",
    "sub_df = condition_df[condition_df[\"num_appeals\"] > APPEAL_THRESHOLD]"
   ]
  },
  {
   "cell_type": "code",
   "execution_count": 106,
   "metadata": {},
   "outputs": [],
   "source": [
    "# Sort DF by overturn rate.\n",
    "sub_df = sub_df.sort_values(by=\"overturn_rate\", ascending=False)\n",
    "\n",
    "# Enforce consistent capitalization\n",
    "sub_df[\"name\"] = sub_df[\"Condition\"].str.title()\n",
    "\n",
    "# Convert to dict/json\n",
    "json_summary = generate_json_summary(sub_df)"
   ]
  },
  {
   "cell_type": "code",
   "execution_count": 107,
   "metadata": {},
   "outputs": [],
   "source": [
    "deduped_summary, merges = merge_similar_objects(json_summary)\n",
    "\n",
    "# Retain only what we show in visualization\n",
    "# Rename some columns before dumping\n",
    "new_name_map = {\"num_appeals\": \"Number of Appeals\", \"overturn_rate\": \"Overturn Rate\", \"partial_overturn_rate\": \"Partial Overturn Rate\"}\n",
    "for rec in deduped_summary:\n",
    "    del rec[\"Condition\"]\n",
    "    del rec['num_favorable']\n",
    "    del rec['num_partially_favorable']\n",
    "    del rec['num_withdrawn']\n",
    "    del rec['num_unfavorable']\n",
    "    for key in new_name_map:\n",
    "        rec[new_name_map[key]] = rec[key]\n",
    "        del rec[key]"
   ]
  },
  {
   "cell_type": "code",
   "execution_count": 108,
   "metadata": {},
   "outputs": [],
   "source": [
    "# Dump condition json array:\n",
    "with open(os.path.join(OUTPUT_DATA_DIR, download_date, \"maPartcConditions.json\"), 'w') as f:\n",
    "    f.write(json.dumps(deduped_summary))"
   ]
  },
  {
   "cell_type": "code",
   "execution_count": 109,
   "metadata": {},
   "outputs": [],
   "source": [
    "service_df = generate_summary_df(df, group_col=\"Item Service\")\n",
    "\n",
    "# Restrict to services appealed more than Threshold times\n",
    "APPEAL_THRESHOLD = 50\n",
    "sub_df = service_df[service_df[\"num_appeals\"] > APPEAL_THRESHOLD]\n",
    "\n",
    "# Sort DF by overturn rate.\n",
    "sub_df = sub_df.sort_values(by=\"overturn_rate\", ascending=False)\n",
    "\n",
    "# Enforce consistent capitalization\n",
    "sub_df[\"name\"] = sub_df[\"Item Service\"].str.title()\n",
    "\n",
    "# Convert to dict/json\n",
    "json_summary = generate_json_summary(sub_df)\n",
    "\n",
    "\n",
    "deduped_summary, merges = merge_similar_objects(json_summary)\n",
    "\n",
    "# Rename some columns before dumping\n",
    "new_name_map = {\"num_appeals\": \"Number of Appeals\", \"overturn_rate\": \"Overturn Rate\", \"partial_overturn_rate\": \"Partial Overturn Rate\"}\n",
    "for rec in deduped_summary:\n",
    "    del rec['Item Service']\n",
    "    del rec['num_favorable']\n",
    "    del rec['num_partially_favorable']\n",
    "    del rec['num_withdrawn']\n",
    "    del rec['num_unfavorable']\n",
    "    for key in new_name_map:\n",
    "        rec[new_name_map[key]] = rec[key]\n",
    "        del rec[key]"
   ]
  },
  {
   "cell_type": "code",
   "execution_count": 110,
   "metadata": {},
   "outputs": [],
   "source": [
    "# Dump condition json array:\n",
    "with open(os.path.join(OUTPUT_DATA_DIR, download_date, \"maPartcServices.json\"), 'w') as f:\n",
    "    f.write(json.dumps(deduped_summary))"
   ]
  },
  {
   "cell_type": "markdown",
   "metadata": {},
   "source": [
    "## Part D"
   ]
  },
  {
   "cell_type": "code",
   "execution_count": 111,
   "metadata": {},
   "outputs": [],
   "source": [
    "df = pd.read_csv(os.path.join(INPUT_DATA_DIR, download_date, \"medicare_qic_partd.csv\"))"
   ]
  },
  {
   "cell_type": "code",
   "execution_count": 112,
   "metadata": {},
   "outputs": [
    {
     "data": {
      "text/html": [
       "<div>\n",
       "<style scoped>\n",
       "    .dataframe tbody tr th:only-of-type {\n",
       "        vertical-align: middle;\n",
       "    }\n",
       "\n",
       "    .dataframe tbody tr th {\n",
       "        vertical-align: top;\n",
       "    }\n",
       "\n",
       "    .dataframe thead th {\n",
       "        text-align: right;\n",
       "    }\n",
       "</style>\n",
       "<table border=\"1\" class=\"dataframe\">\n",
       "  <thead>\n",
       "    <tr style=\"text-align: right;\">\n",
       "      <th></th>\n",
       "      <th>Decision_Number</th>\n",
       "      <th>Part</th>\n",
       "      <th>Decision Date</th>\n",
       "      <th>Decision_Date_Sortable</th>\n",
       "      <th>Decision</th>\n",
       "      <th>Appeal_Type</th>\n",
       "      <th>Condition</th>\n",
       "      <th>Drug</th>\n",
       "      <th>Decision Rationale</th>\n",
       "      <th>Coverage Rules</th>\n",
       "    </tr>\n",
       "  </thead>\n",
       "  <tbody>\n",
       "    <tr>\n",
       "      <th>0</th>\n",
       "      <td>QIC20-002141</td>\n",
       "      <td>Part D-Drug</td>\n",
       "      <td>01/08/2020</td>\n",
       "      <td>20200108</td>\n",
       "      <td>Unfavorable</td>\n",
       "      <td>Prescription Drug</td>\n",
       "      <td>NaN</td>\n",
       "      <td>Butalbital Acetaminophen Caffeine</td>\n",
       "      <td>Medicare rules require a Part D Plan to issue ...</td>\n",
       "      <td>Citations used in this letter come from Sectio...</td>\n",
       "    </tr>\n",
       "    <tr>\n",
       "      <th>1</th>\n",
       "      <td>QIC20-002144</td>\n",
       "      <td>Part D-Drug</td>\n",
       "      <td>01/06/2020</td>\n",
       "      <td>20200106</td>\n",
       "      <td>Unfavorable</td>\n",
       "      <td>Prescription Drug</td>\n",
       "      <td>NaN</td>\n",
       "      <td>Oxycontin ER</td>\n",
       "      <td>Medicare rules require a Part D Plan to issue ...</td>\n",
       "      <td>Citations used in this letter come from Sectio...</td>\n",
       "    </tr>\n",
       "    <tr>\n",
       "      <th>2</th>\n",
       "      <td>QIC20-002145</td>\n",
       "      <td>Part D-Drug</td>\n",
       "      <td>01/13/2020</td>\n",
       "      <td>20200113</td>\n",
       "      <td>Unfavorable</td>\n",
       "      <td>Prescription Drug</td>\n",
       "      <td>NaN</td>\n",
       "      <td>Adderall</td>\n",
       "      <td>Citations used in this letter come from Sectio...</td>\n",
       "      <td>Citations used in this letter come from Sectio...</td>\n",
       "    </tr>\n",
       "    <tr>\n",
       "      <th>3</th>\n",
       "      <td>QIC20-002146</td>\n",
       "      <td>Part D-Drug</td>\n",
       "      <td>01/03/2020</td>\n",
       "      <td>20200103</td>\n",
       "      <td>Unfavorable</td>\n",
       "      <td>Prescription Drug</td>\n",
       "      <td>NaN</td>\n",
       "      <td>Viokace</td>\n",
       "      <td>You asked the Plan to cover Viokace. The Plan ...</td>\n",
       "      <td>Citations used in this letter come from Sectio...</td>\n",
       "    </tr>\n",
       "    <tr>\n",
       "      <th>4</th>\n",
       "      <td>QIC20-002147</td>\n",
       "      <td>Part D-Drug</td>\n",
       "      <td>01/06/2020</td>\n",
       "      <td>20200106</td>\n",
       "      <td>Unfavorable</td>\n",
       "      <td>Prescription Drug</td>\n",
       "      <td>Dermatitis unspecified</td>\n",
       "      <td>Fluocinonide</td>\n",
       "      <td>Medicare rules require a Part D Plan to issue ...</td>\n",
       "      <td>Citations used in this letter come from Sectio...</td>\n",
       "    </tr>\n",
       "  </tbody>\n",
       "</table>\n",
       "</div>"
      ],
      "text/plain": [
       "  Decision_Number         Part Decision Date  Decision_Date_Sortable   \n",
       "0    QIC20-002141  Part D-Drug    01/08/2020                20200108  \\\n",
       "1    QIC20-002144  Part D-Drug    01/06/2020                20200106   \n",
       "2    QIC20-002145  Part D-Drug    01/13/2020                20200113   \n",
       "3    QIC20-002146  Part D-Drug    01/03/2020                20200103   \n",
       "4    QIC20-002147  Part D-Drug    01/06/2020                20200106   \n",
       "\n",
       "      Decision        Appeal_Type                Condition   \n",
       "0  Unfavorable  Prescription Drug                      NaN  \\\n",
       "1  Unfavorable  Prescription Drug                      NaN   \n",
       "2  Unfavorable  Prescription Drug                      NaN   \n",
       "3  Unfavorable  Prescription Drug                      NaN   \n",
       "4  Unfavorable  Prescription Drug  Dermatitis unspecified    \n",
       "\n",
       "                                Drug   \n",
       "0  Butalbital Acetaminophen Caffeine  \\\n",
       "1                       Oxycontin ER   \n",
       "2                           Adderall   \n",
       "3                            Viokace   \n",
       "4                       Fluocinonide   \n",
       "\n",
       "                                  Decision Rationale   \n",
       "0  Medicare rules require a Part D Plan to issue ...  \\\n",
       "1  Medicare rules require a Part D Plan to issue ...   \n",
       "2  Citations used in this letter come from Sectio...   \n",
       "3  You asked the Plan to cover Viokace. The Plan ...   \n",
       "4  Medicare rules require a Part D Plan to issue ...   \n",
       "\n",
       "                                      Coverage Rules  \n",
       "0  Citations used in this letter come from Sectio...  \n",
       "1  Citations used in this letter come from Sectio...  \n",
       "2  Citations used in this letter come from Sectio...  \n",
       "3  Citations used in this letter come from Sectio...  \n",
       "4  Citations used in this letter come from Sectio...  "
      ]
     },
     "execution_count": 112,
     "metadata": {},
     "output_type": "execute_result"
    }
   ],
   "source": [
    "df.head()"
   ]
  },
  {
   "cell_type": "code",
   "execution_count": 114,
   "metadata": {},
   "outputs": [],
   "source": [
    "# Split dates\n",
    "df[\"decision_year\"] = df[\"Decision Date\"].apply(lambda x: int(x.split(\"/\")[-1]))\n",
    "df[\"decision_month\"] = df[\"Decision Date\"].apply(lambda x: int(x.split(\"/\")[0]))\n",
    "df[\"decision_day\"] = df[\"Decision Date\"].apply(lambda x: int(x.split(\"/\")[1]))\n",
    "\n",
    "# Restrict attention to years with complete data\n",
    "years = [2020, 2021, 2022, 2023]\n",
    "df = df[df[\"decision_year\"].isin(years)]"
   ]
  },
  {
   "cell_type": "code",
   "execution_count": 117,
   "metadata": {},
   "outputs": [
    {
     "name": "stdout",
     "output_type": "stream",
     "text": [
      "Number of appeals: 119093\n",
      "Overturn rate (complete overturn): 0.06370651507645285\n",
      "Overturn rate (complete + partial): 0.07087428401866722\n"
     ]
    }
   ],
   "source": [
    "num_appeals = len(df)\n",
    "complete_overturn_rate = get_overturn_rate(df,\"Decision\", \"Favorable\") # TODO: Verify favorable means favorable to insured. Ambiguous descriptor.\n",
    "overturn_rate = (df[\"Decision\"].value_counts()['Favorable'] + df[\"Decision\"].value_counts()['Partially Favorable']) / df[\"Decision\"].value_counts()['Unfavorable']\n",
    "print(f\"Number of appeals: {num_appeals}\")\n",
    "print(f\"Overturn rate (complete overturn): {complete_overturn_rate}\")\n",
    "print(f\"Overturn rate (complete + partial): {overturn_rate}\")"
   ]
  },
  {
   "cell_type": "code",
   "execution_count": 23,
   "metadata": {},
   "outputs": [
    {
     "data": {
      "text/plain": [
       "[{'decision_year': 2020,\n",
       "  'num_appeals': 23738,\n",
       "  'num_favorable': 2239,\n",
       "  'num_partially_favorable': 166,\n",
       "  'num_unfavorable': 21333,\n",
       "  'num_withdrawn': 0,\n",
       "  'overturn_rate': 0.0943213413,\n",
       "  'partial_overturn_rate': 0.006993007},\n",
       " {'decision_year': 2021,\n",
       "  'num_appeals': 25491,\n",
       "  'num_favorable': 1271,\n",
       "  'num_partially_favorable': 16,\n",
       "  'num_unfavorable': 24204,\n",
       "  'num_withdrawn': 0,\n",
       "  'overturn_rate': 0.0498607352,\n",
       "  'partial_overturn_rate': 0.0006276725},\n",
       " {'decision_year': 2022,\n",
       "  'num_appeals': 34771,\n",
       "  'num_favorable': 1858,\n",
       "  'num_partially_favorable': 54,\n",
       "  'num_unfavorable': 32859,\n",
       "  'num_withdrawn': 0,\n",
       "  'overturn_rate': 0.053435334,\n",
       "  'partial_overturn_rate': 0.0015530183},\n",
       " {'decision_year': 2023,\n",
       "  'num_appeals': 29624,\n",
       "  'num_favorable': 1800,\n",
       "  'num_partially_favorable': 53,\n",
       "  'num_unfavorable': 27771,\n",
       "  'num_withdrawn': 0,\n",
       "  'overturn_rate': 0.0607615447,\n",
       "  'partial_overturn_rate': 0.0017890899}]"
      ]
     },
     "execution_count": 23,
     "metadata": {},
     "output_type": "execute_result"
    }
   ],
   "source": [
    "# Yearly summary\n",
    "json_summary = generate_json_summary(generate_summary_df(df, \"decision_year\"))\n",
    "json_summary"
   ]
  },
  {
   "cell_type": "code",
   "execution_count": 120,
   "metadata": {},
   "outputs": [],
   "source": [
    "condition_df = generate_summary_df(df, group_col=\"Condition\")"
   ]
  },
  {
   "cell_type": "code",
   "execution_count": 121,
   "metadata": {},
   "outputs": [],
   "source": [
    "# Restrict to conditions appealed more than Threshold times\n",
    "APPEAL_THRESHOLD = 50\n",
    "sub_df = condition_df[condition_df[\"num_appeals\"] > APPEAL_THRESHOLD]"
   ]
  },
  {
   "cell_type": "code",
   "execution_count": 122,
   "metadata": {},
   "outputs": [],
   "source": [
    "# Sort DF by overturn rate.\n",
    "sub_df = sub_df.sort_values(by=\"overturn_rate\", ascending=False)\n",
    "\n",
    "# Enforce consistent capitalization\n",
    "sub_df[\"name\"] = sub_df[\"Condition\"].str.title()\n",
    "\n",
    "# Convert to dict/json\n",
    "json_summary = generate_json_summary(sub_df)"
   ]
  },
  {
   "cell_type": "code",
   "execution_count": 123,
   "metadata": {},
   "outputs": [],
   "source": [
    "deduped_summary, merges = merge_similar_objects(json_summary)\n",
    "\n",
    "# Retain only what we show in visualization\n",
    "new_name_map = {\"num_appeals\": \"Number of Appeals\", \"overturn_rate\": \"Overturn Rate\", \"partial_overturn_rate\": \"Partial Overturn Rate\"}\n",
    "for rec in deduped_summary:\n",
    "    del rec[\"Condition\"]\n",
    "    del rec['num_favorable']\n",
    "    del rec['num_partially_favorable']\n",
    "    del rec['num_withdrawn']\n",
    "    del rec['num_unfavorable']\n",
    "    for key in new_name_map:\n",
    "        rec[new_name_map[key]] = rec[key]\n",
    "        del rec[key]"
   ]
  },
  {
   "cell_type": "code",
   "execution_count": 124,
   "metadata": {},
   "outputs": [],
   "source": [
    "# Dump condition json array:\n",
    "with open(os.path.join(OUTPUT_DATA_DIR, download_date, \"maPartdConditions.json\"), 'w') as f:\n",
    "    f.write(json.dumps(deduped_summary))"
   ]
  },
  {
   "cell_type": "code",
   "execution_count": 125,
   "metadata": {},
   "outputs": [],
   "source": [
    "\n",
    "service_df = generate_summary_df(df, group_col=\"Drug\")\n",
    "\n",
    "# Restrict to services appealed more than Threshold times\n",
    "APPEAL_THRESHOLD = 50\n",
    "sub_df = service_df[service_df[\"num_appeals\"] > APPEAL_THRESHOLD]\n",
    "\n",
    "# Sort DF by overturn rate.\n",
    "sub_df = sub_df.sort_values(by=\"overturn_rate\", ascending=False)\n",
    "\n",
    "# Enforce consistent capitalization\n",
    "sub_df[\"name\"] = sub_df[\"Drug\"].str.title()\n",
    "\n",
    "# Convert to dict/json\n",
    "json_summary = generate_json_summary(sub_df)\n",
    "\n",
    "\n",
    "deduped_summary, merges = merge_similar_objects(json_summary)\n",
    "    \n",
    "# Rename some columns before dumping\n",
    "new_name_map = {\"num_appeals\": \"Number of Appeals\", \"overturn_rate\": \"Overturn Rate\", \"partial_overturn_rate\": \"Partial Overturn Rate\"}\n",
    "for rec in deduped_summary:\n",
    "    del rec['Drug']\n",
    "    del rec['num_favorable']\n",
    "    del rec['num_partially_favorable']\n",
    "    del rec['num_withdrawn']\n",
    "    del rec['num_unfavorable']\n",
    "    for key in new_name_map:\n",
    "        rec[new_name_map[key]] = rec[key]\n",
    "        del rec[key]"
   ]
  },
  {
   "cell_type": "code",
   "execution_count": 126,
   "metadata": {},
   "outputs": [],
   "source": [
    "# Dump condition json array:\n",
    "with open(os.path.join(OUTPUT_DATA_DIR, download_date, \"maPartdServices.json\"), 'w') as f:\n",
    "    f.write(json.dumps(deduped_summary))"
   ]
  }
 ],
 "metadata": {
  "kernelspec": {
   "display_name": "investigations_venv",
   "language": "python",
   "name": "python3"
  },
  "language_info": {
   "codemirror_mode": {
    "name": "ipython",
    "version": 3
   },
   "file_extension": ".py",
   "mimetype": "text/x-python",
   "name": "python",
   "nbconvert_exporter": "python",
   "pygments_lexer": "ipython3",
   "version": "3.10.12"
  },
  "orig_nbformat": 4
 },
 "nbformat": 4,
 "nbformat_minor": 2
}
