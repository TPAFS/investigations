{
 "cells": [
  {
   "cell_type": "code",
   "execution_count": 3,
   "metadata": {},
   "outputs": [],
   "source": [
    "import pandas as pd"
   ]
  },
  {
   "cell_type": "code",
   "execution_count": 4,
   "metadata": {},
   "outputs": [
    {
     "name": "stderr",
     "output_type": "stream",
     "text": [
      "/home/mike/persius/notebooks/.env/lib/python3.10/site-packages/openpyxl/styles/stylesheet.py:226: UserWarning: Workbook contains no default style, apply openpyxl's default\n",
      "  warn(\"Workbook contains no default style, apply openpyxl's default\")\n"
     ]
    }
   ],
   "source": [
    "appeal_data_path = \"/home/mike/data/practice_data/nys_external_appeal_outcomes.xlsx\"\n",
    "df = pd.read_excel(appeal_data_path, engine=\"openpyxl\")"
   ]
  },
  {
   "cell_type": "code",
   "execution_count": 5,
   "metadata": {},
   "outputs": [
    {
     "data": {
      "text/plain": [
       "Upheld                12908\n",
       "Overturned             9852\n",
       "Overturned in Part      391\n",
       "Name: Appeal Decision, dtype: int64"
      ]
     },
     "execution_count": 5,
     "metadata": {},
     "output_type": "execute_result"
    }
   ],
   "source": [
    "df['Appeal Decision'].value_counts()"
   ]
  },
  {
   "cell_type": "code",
   "execution_count": 6,
   "metadata": {},
   "outputs": [
    {
     "data": {
      "text/plain": [
       "Healthfirst Inc.                          4421\n",
       "Fidelis Care New York                     3709\n",
       "Empire Healthchoice Assurance Inc.        2327\n",
       "Empire BlueCross BlueShield HealthPlus    1866\n",
       "United Healthcare Plan of New York        1405\n",
       "Metroplus Health Plan                     1342\n",
       "Oxford                                    1108\n",
       "Excellus                                   913\n",
       "CVS Caremark                               714\n",
       "Centers Plan for Healthy Living            567\n",
       "HIP Health Plan of New York                435\n",
       "Affinity Health Plan                       413\n",
       "Aetna                                      376\n",
       "VNSNY CHOICE Health Plans                  371\n",
       "United Healthcare Ins. Co. of NY           308\n",
       "Integra MLTC, Inc.                         259\n",
       "MVP Health Plan                            238\n",
       "CIGNA Healthcare of NY                     214\n",
       "United Healthcare Ins. Co. of N.Y.         213\n",
       "HomeFirst/Elderplan                        204\n",
       "Name: Health Plan, dtype: int64"
      ]
     },
     "execution_count": 6,
     "metadata": {},
     "output_type": "execute_result"
    }
   ],
   "source": [
    "# Q: What are population counts here? What are initial appeal counts?\n",
    "df[\"Health Plan\"].value_counts()[:20]"
   ]
  },
  {
   "cell_type": "code",
   "execution_count": 7,
   "metadata": {},
   "outputs": [
    {
     "data": {
      "text/plain": [
       "IPRO                     8042\n",
       "MCMC, LLC                6498\n",
       "IMEDECS                  5277\n",
       "Kepro dba IMEDECS        3331\n",
       "MCMC Services, L.L.C.       3\n",
       "Name: Agent, dtype: int64"
      ]
     },
     "execution_count": 7,
     "metadata": {},
     "output_type": "execute_result"
    }
   ],
   "source": [
    "df[\"Agent\"].value_counts()"
   ]
  },
  {
   "cell_type": "code",
   "execution_count": 8,
   "metadata": {},
   "outputs": [
    {
     "data": {
      "text/plain": [
       "[Cardiac/ Circulatory Problems]                     2891\n",
       "[Digestive System/ Gastrointestinal]                2871\n",
       "[Central Nervous System/ Neuromuscular Disorder]    2393\n",
       "[Orthopedic/ Musculoskeletal]                       2056\n",
       "[Dental Problems]                                   1779\n",
       "[Respiratory System]                                1471\n",
       "[Endocrine/ Metabolic/ Nutritional]                 1127\n",
       "[Skin Disorders]                                    1056\n",
       "[Substance Abuse/ Addiction]                         940\n",
       "[Cancer]                                             921\n",
       "Name: Diagnosis, dtype: int64"
      ]
     },
     "execution_count": 8,
     "metadata": {},
     "output_type": "execute_result"
    }
   ],
   "source": [
    "df[\"Diagnosis\"].value_counts()[:10]"
   ]
  },
  {
   "cell_type": "code",
   "execution_count": 9,
   "metadata": {},
   "outputs": [
    {
     "data": {
      "text/plain": [
       "50-59      4671\n",
       "60-69      3617\n",
       "40-49      3114\n",
       "10-19      2835\n",
       "30-39      2773\n",
       "20-29      2060\n",
       "0-9        1664\n",
       "80-89       956\n",
       "70-79       800\n",
       "over 90     660\n",
       "-10--1        1\n",
       "Name: Age Range, dtype: int64"
      ]
     },
     "execution_count": 9,
     "metadata": {},
     "output_type": "execute_result"
    }
   ],
   "source": [
    "df[\"Age Range\"].value_counts()"
   ]
  },
  {
   "cell_type": "code",
   "execution_count": 10,
   "metadata": {},
   "outputs": [
    {
     "data": {
      "text/plain": [
       "Medical necessity               21394\n",
       "Experimental/Investigational      867\n",
       "Formulary Exception               853\n",
       "Step Therapy                       34\n",
       "Out-of-Network Service              3\n",
       "Name: Denial Reason, dtype: int64"
      ]
     },
     "execution_count": 10,
     "metadata": {},
     "output_type": "execute_result"
    }
   ],
   "source": [
    "df[\"Denial Reason\"].value_counts()"
   ]
  },
  {
   "cell_type": "code",
   "execution_count": 11,
   "metadata": {},
   "outputs": [
    {
     "data": {
      "text/plain": [
       "Female                  12515\n",
       "Male                    10602\n",
       "Not Designated/Other       34\n",
       "Name: Gender, dtype: int64"
      ]
     },
     "execution_count": 11,
     "metadata": {},
     "output_type": "execute_result"
    }
   ],
   "source": [
    "df[\"Gender\"].value_counts()"
   ]
  },
  {
   "cell_type": "code",
   "execution_count": 12,
   "metadata": {},
   "outputs": [
    {
     "data": {
      "text/plain": [
       "\"Diagnosis: Primary hyperparathyroidism; multinodular goiter\\nTreatment: Inpatient hospital admission\\nSummary:  The inpatient hospital admission was not medically necessary.\\nAcute inpatient hospitalization was not medically necessary for this patient for the dates of service under review.  The medical records support that this patient could have been reasonably and safely monitored with an observational status (rather than acute inpatient admission).\\nThis patient presented with the diagnosis of hyperparathyroidism and a multinodular goiter.  She underwent total thyroidectomy, parathyroidectomy (right inferior, right superior, portion of left inferior), right central neck dissection, cervical thymectomy with intraoperative RLN and iPTH monitoring.  \\nWhile there is risk for post-operative hypocalcemia following parathyroidectomy, this risk is minimized by the identification of each parathyroid gland that was performed in this case.  Also, the nadir for post-surgical calcium is not typically seen until 48 hours.  Intraoperative PTH monitoring confirmed 95% reduction in serum PTH with resection of the right inferior gland.  The progress notes do not describe any clinical manifestations of hypocalcemia.  Monitoring for hypocalcemia and post-surgical sero-hematoma was appropriate in this case, however, this could have reasonably and safely been provided without inpatient admission.  The operative report describes a successful and uncomplicated procedure.  There was no clinical evidence for neck swelling, post-operative bleeding or recurrent laryngeal nerve injury.  The post-surgical calcium value was 11.3 and intact PTH was 2.7.  This patient's clinical needs could have been appropriately satisfied with an observational level of care.\\n\""
      ]
     },
     "execution_count": 12,
     "metadata": {},
     "output_type": "execute_result"
    }
   ],
   "source": [
    "df[\"Summary 1\"][131]"
   ]
  },
  {
   "cell_type": "code",
   "execution_count": 13,
   "metadata": {},
   "outputs": [],
   "source": [
    "# Idea: train a model to determine whether a scenario will be deemed medically necessary by an external review board."
   ]
  },
  {
   "cell_type": "code",
   "execution_count": 14,
   "metadata": {},
   "outputs": [
    {
     "data": {
      "text/plain": [
       "2022    6664\n",
       "2021    6540\n",
       "2020    5816\n",
       "2019    4130\n",
       "2002       1\n",
       "Name: Decision Year, dtype: int64"
      ]
     },
     "execution_count": 14,
     "metadata": {},
     "output_type": "execute_result"
    }
   ],
   "source": [
    "df[\"Decision Year\"].value_counts()"
   ]
  },
  {
   "cell_type": "code",
   "execution_count": null,
   "metadata": {},
   "outputs": [],
   "source": []
  },
  {
   "cell_type": "code",
   "execution_count": 15,
   "metadata": {},
   "outputs": [],
   "source": [
    "puf_path = \"/home/mike/data/practice_data/Transparency_in_Coverage_PUF.xlsx\"\n",
    "puf = pd.read_excel(puf_path, sheet_name=1)"
   ]
  },
  {
   "cell_type": "code",
   "execution_count": 16,
   "metadata": {},
   "outputs": [],
   "source": [
    "# Get rid of junk rows\n",
    "puf.columns = puf.iloc[1]\n",
    "puf = puf.iloc[2:]"
   ]
  },
  {
   "cell_type": "code",
   "execution_count": 17,
   "metadata": {},
   "outputs": [
    {
     "data": {
      "text/plain": [
       "Index(['State', 'Issuer_Name', 'Issuer_ID',\n",
       "       'Is_Issuer_New_to_Exchange? (Yes_or_No)', 'SADP_Only?', 'Plan_ID',\n",
       "       'QHP/SADP', 'Plan_Type', 'Metal_Level', 'URL_Claims_Payment_Policies',\n",
       "       'Issuer_Claims_Received', 'Issuer_Claims_Denials',\n",
       "       'Issuer_Internal_Appeals_Filed',\n",
       "       'Issuer_Number_Internal_Appeals_Overturned',\n",
       "       'Issuer_Percent_Internal_Appeals_Overturned',\n",
       "       'Issuer_External_Appeals_Filed',\n",
       "       'Issuer_Number_External_Appeals_Overturned',\n",
       "       'Issuer_Percent_External_Appeals_Overturned',\n",
       "       'Plan_Number_Claims_Received', 'Plan_Number_Claims_Denied',\n",
       "       'Plan_Number_Claims_Denied_Referral_Required',\n",
       "       'Plan_Number_Claims_Denied_Out_of_Network',\n",
       "       'Plan_Number_Claims_Denied_Services_Excluded',\n",
       "       'Plan_Number_Claims_Denied_Not_Medically_Necessary_Excl_Behavioral_Health',\n",
       "       'Plan_Number_Claims_Denied_Not_Medically_Necessary_Behavioral_Health_Only',\n",
       "       'Plan_Number_Claims_Denied_Other', 'Rate_Review',\n",
       "       'Financial_Information', 'Average Monthly Enrollment',\n",
       "       'Average Monthly Disenrollment'],\n",
       "      dtype='object', name=1)"
      ]
     },
     "execution_count": 17,
     "metadata": {},
     "output_type": "execute_result"
    }
   ],
   "source": [
    "puf.columns"
   ]
  },
  {
   "cell_type": "code",
   "execution_count": 54,
   "metadata": {},
   "outputs": [
    {
     "data": {
      "image/png": "[encoded data removed]",
      "text/plain": [
       "<Figure size 640x480 with 1 Axes>"
      ]
     },
     "metadata": {},
     "output_type": "display_data"
    }
   ],
   "source": [
    "# Calculate issuer denial rate:\n",
    "import numpy as np\n",
    "import matplotlib.pyplot as plt\n",
    "def denial_rate(row):\n",
    "    recvd = row[\"Issuer_Claims_Received\"]\n",
    "    denied = row[\"Issuer_Claims_Denials\"]\n",
    "    if type(recvd) is str and type(denied) is str:\n",
    "        return int(denied) / int(recvd)\n",
    "    else:\n",
    "        return -1\n",
    "\n",
    "# Calculate denial rates where possible\n",
    "puf[\"denial_rate\"] = puf.apply(denial_rate, axis=1)\n",
    "denial_rates = puf[puf[\"denial_rate\"] != -1]\n",
    "\n",
    "\n",
    "# Plot hist of denial rate:\n",
    "fig, ax = plt.subplots()\n",
    "ax.set_title(\"Denial rate distribution across PUF marketplace plans.\")\n",
    "ax.hist(denial_rates[\"denial_rate\"], alpha=.5, bins=np.linspace(0, .5, 25))\n",
    "plt.show()"
   ]
  },
  {
   "cell_type": "code",
   "execution_count": 22,
   "metadata": {},
   "outputs": [
    {
     "data": {
      "text/plain": [
       "TX    1090\n",
       "FL     687\n",
       "WI     537\n",
       "NC     429\n",
       "TN     416\n",
       "IL     392\n",
       "OH     341\n",
       "GA     338\n",
       "AZ     289\n",
       "MI     231\n",
       "MO     205\n",
       "OK     195\n",
       "NE     194\n",
       "VA     145\n",
       "KS     128\n",
       "LA     127\n",
       "UT      99\n",
       "MT      97\n",
       "SC      93\n",
       "IN      88\n",
       "IA      84\n",
       "OR      77\n",
       "MS      72\n",
       "SD      64\n",
       "ND      62\n",
       "AL      59\n",
       "NH      55\n",
       "AR      51\n",
       "DE      30\n",
       "WV      26\n",
       "WY      25\n",
       "HI      22\n",
       "AK      16\n",
       "Name: State, dtype: int64"
      ]
     },
     "execution_count": 22,
     "metadata": {},
     "output_type": "execute_result"
    }
   ],
   "source": [
    "puf[\"State\"].value_counts()"
   ]
  },
  {
   "cell_type": "code",
   "execution_count": null,
   "metadata": {},
   "outputs": [],
   "source": [
    "# Plot denial rates by state\n",
    "\n",
    "# Plot denial rates by insurer, by year (how it is progressing?)\n",
    "\n",
    "\n",
    "# Plot denial type by insurer, by state? What dominates for each insurer, where to focus?\n",
    "\n",
    "# KFF looks only at insurers from marketplace with \"complete\" data.\n",
    "\n",
    "# How often do consumers get denied?\n",
    "\n",
    "# How often do they appeal?\n",
    "\n",
    "# How often do they win appeals (internal)?\n",
    "\n",
    "# How often do they external appeal?\n",
    "\n",
    "# How often do they win appeals (external)?\n",
    "\n",
    "# How often do they win, period?\n",
    "\n"
   ]
  }
 ],
 "metadata": {
  "kernelspec": {
   "display_name": "Python 3.10.7 ('transparency_data')",
   "language": "python",
   "name": "python3"
  },
  "language_info": {
   "codemirror_mode": {
    "name": "ipython",
    "version": 3
   },
   "file_extension": ".py",
   "mimetype": "text/x-python",
   "name": "python",
   "nbconvert_exporter": "python",
   "pygments_lexer": "ipython3",
   "version": "3.10.7"
  },
  "orig_nbformat": 4,
  "vscode": {
   "interpreter": {
    "hash": "c5dd58560e6456885420a9ed7265d7b282c0984f7bf6681e112e946c9b15888f"
   }
  }
 },
 "nbformat": 4,
 "nbformat_minor": 2
}
